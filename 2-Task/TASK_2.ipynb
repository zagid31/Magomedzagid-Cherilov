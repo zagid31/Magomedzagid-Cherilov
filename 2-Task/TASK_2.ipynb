{
 "cells": [
  {
   "cell_type": "markdown",
   "metadata": {},
   "source": [
    "# TASK 2"
   ]
  },
  {
   "cell_type": "markdown",
   "metadata": {},
   "source": [
    "### Задание 1\n",
    "Создать наследника класса фигура – класс прямоугольника, с соответствующим изменением конструктора (рисует в псевдографике звездочками прямоугольник)"
   ]
  },
  {
   "cell_type": "code",
   "execution_count": 1,
   "metadata": {},
   "outputs": [],
   "source": [
    "# Чтобы дальше всё работало\n",
    "class Shape:\n",
    "    def __init__(self, coords):\n",
    "        self.coords = coords \n",
    "\n",
    "    def draw(self):\n",
    "        result = ''\n",
    "        for i in range(40):\n",
    "            for j in range(40):\n",
    "                if (j, i) in self.coords:\n",
    "                    result += '*'\n",
    "                else:\n",
    "                    result += ' '\n",
    "            result += '\\n'\n",
    "        return result"
   ]
  },
  {
   "cell_type": "code",
   "execution_count": 2,
   "metadata": {},
   "outputs": [],
   "source": [
    "class Rectangle(Shape):\n",
    "    def __init__(self, top_left, bottom_right):\n",
    "        self.coords = []\n",
    "        self.length = bottom_right[0] - top_left[0]\n",
    "        self.width = bottom_right[1] - top_left[1]\n",
    "        for i in range(top_left[0], bottom_right[0] + 1):\n",
    "            self.coords.append((i, top_left[1]))\n",
    "            self.coords.append((i, bottom_right[1]))\n",
    "        for i in range(top_left[1], bottom_right[1] + 1):\n",
    "            self.coords.append((top_left[0], i))\n",
    "            self.coords.append((bottom_right[0], i))"
   ]
  },
  {
   "cell_type": "markdown",
   "metadata": {},
   "source": [
    "### Задания 2 - 3\n",
    "Создать объект прямоугольника и нарисовать его <br>\n",
    "Изменить параметры объекта и перерисовать его\n"
   ]
  },
  {
   "cell_type": "code",
   "execution_count": 3,
   "metadata": {},
   "outputs": [],
   "source": [
    "fig = Rectangle((2, 3), (10, 10))"
   ]
  },
  {
   "cell_type": "code",
   "execution_count": 5,
   "metadata": {},
   "outputs": [
    {
     "name": "stdout",
     "output_type": "stream",
     "text": [
      "                                        \n",
      "                                        \n",
      "                                        \n",
      "  *********                             \n",
      "  *       *                             \n",
      "  *       *                             \n",
      "  *       *                             \n",
      "  *       *                             \n",
      "  *       *                             \n",
      "  *       *                             \n",
      "  *********                             \n",
      "                                        \n",
      "                                        \n",
      "                                        \n",
      "                                        \n",
      "                                        \n",
      "                                        \n",
      "                                        \n",
      "                                        \n",
      "                                        \n",
      "                                        \n",
      "                                        \n",
      "                                        \n",
      "                                        \n",
      "                                        \n",
      "                                        \n",
      "                                        \n",
      "                                        \n",
      "                                        \n",
      "                                        \n",
      "                                        \n",
      "                                        \n",
      "                                        \n",
      "                                        \n",
      "                                        \n",
      "                                        \n",
      "                                        \n",
      "                                        \n",
      "                                        \n",
      "                                        \n",
      "\n"
     ]
    }
   ],
   "source": [
    "print(fig.draw())"
   ]
  },
  {
   "cell_type": "code",
   "execution_count": 18,
   "metadata": {},
   "outputs": [],
   "source": [
    "fig_2 = Rectangle((0, 0), (3, 10))"
   ]
  },
  {
   "cell_type": "code",
   "execution_count": 19,
   "metadata": {},
   "outputs": [
    {
     "name": "stdout",
     "output_type": "stream",
     "text": [
      "****                                    \n",
      "*  *                                    \n",
      "*  *                                    \n",
      "*  *                                    \n",
      "*  *                                    \n",
      "*  *                                    \n",
      "*  *                                    \n",
      "*  *                                    \n",
      "*  *                                    \n",
      "*  *                                    \n",
      "****                                    \n",
      "                                        \n",
      "                                        \n",
      "                                        \n",
      "                                        \n",
      "                                        \n",
      "                                        \n",
      "                                        \n",
      "                                        \n",
      "                                        \n",
      "                                        \n",
      "                                        \n",
      "                                        \n",
      "                                        \n",
      "                                        \n",
      "                                        \n",
      "                                        \n",
      "                                        \n",
      "                                        \n",
      "                                        \n",
      "                                        \n",
      "                                        \n",
      "                                        \n",
      "                                        \n",
      "                                        \n",
      "                                        \n",
      "                                        \n",
      "                                        \n",
      "                                        \n",
      "                                        \n",
      "\n"
     ]
    }
   ],
   "source": [
    "print(fig_2.draw())"
   ]
  },
  {
   "cell_type": "markdown",
   "metadata": {},
   "source": [
    "### Задние 4\n",
    "Создать наследника класса прямоугольник - класс квадрат"
   ]
  },
  {
   "cell_type": "code",
   "execution_count": 20,
   "metadata": {},
   "outputs": [],
   "source": [
    "class Square(Rectangle):\n",
    "    def __init__(self, top_left, length):\n",
    "        self.length = length\n",
    "        super().__init__(top_left, (top_left[0] + length - 1, top_left[1] + length - 1))\n",
    "        "
   ]
  },
  {
   "cell_type": "markdown",
   "metadata": {},
   "source": [
    "### Задание 5\n",
    "Создать объект квадрат и нарисовать его"
   ]
  },
  {
   "cell_type": "code",
   "execution_count": 21,
   "metadata": {},
   "outputs": [],
   "source": [
    "fig_3 = Square((0, 0), 5)"
   ]
  },
  {
   "cell_type": "code",
   "execution_count": 22,
   "metadata": {},
   "outputs": [
    {
     "name": "stdout",
     "output_type": "stream",
     "text": [
      "*****                                   \n",
      "*   *                                   \n",
      "*   *                                   \n",
      "*   *                                   \n",
      "*****                                   \n",
      "                                        \n",
      "                                        \n",
      "                                        \n",
      "                                        \n",
      "                                        \n",
      "                                        \n",
      "                                        \n",
      "                                        \n",
      "                                        \n",
      "                                        \n",
      "                                        \n",
      "                                        \n",
      "                                        \n",
      "                                        \n",
      "                                        \n",
      "                                        \n",
      "                                        \n",
      "                                        \n",
      "                                        \n",
      "                                        \n",
      "                                        \n",
      "                                        \n",
      "                                        \n",
      "                                        \n",
      "                                        \n",
      "                                        \n",
      "                                        \n",
      "                                        \n",
      "                                        \n",
      "                                        \n",
      "                                        \n",
      "                                        \n",
      "                                        \n",
      "                                        \n",
      "                                        \n",
      "\n"
     ]
    }
   ],
   "source": [
    "print(fig_3.draw())"
   ]
  },
  {
   "cell_type": "markdown",
   "metadata": {},
   "source": [
    "### Задание 6\n",
    "Создать наследника класса фигура - треугольник (по сложности:\n",
    "• прямоугольный с одинаковыми катетами\n",
    "• просто прямоугольный\n",
    "• любой треугольник)\n",
    "\n",
    "#### Важная ремарка - я сделал только пункт А, так как для остальных сильно логичнее и эффективнее использовать рисование линий, а это будет реализовано ниже"
   ]
  },
  {
   "cell_type": "code",
   "execution_count": 25,
   "metadata": {},
   "outputs": [],
   "source": [
    "class GoodRightTriangle(Shape):\n",
    "    def __init__(self, vertex, length):\n",
    "        self.coords = []\n",
    "        self.lower_vertex = (vertex[0], vertex[1] + length - 1)\n",
    "        self.length = length\n",
    "        for i in range(length):\n",
    "            self.coords.append((vertex[0] + i, vertex[1]))\n",
    "            self.coords.append((vertex[0], vertex[1] + i))\n",
    "            self.coords.append((self.lower_vertex[0] + i, self.lower_vertex[1] - i))"
   ]
  },
  {
   "cell_type": "markdown",
   "metadata": {},
   "source": [
    "### Задание 7\n",
    "Создать несколько объектов класса треугольник, прямоугольник и фигура, поместить их в список и вызвать функцию рисования при обходе списка (пример полиморфизма)."
   ]
  },
  {
   "cell_type": "code",
   "execution_count": 26,
   "metadata": {},
   "outputs": [
    {
     "name": "stdout",
     "output_type": "stream",
     "text": [
      "*****                                   \n",
      "*  *                                    \n",
      "* *                                     \n",
      "**                                      \n",
      "*                                       \n",
      "                                        \n",
      "                                        \n",
      "                                        \n",
      "                                        \n",
      "                                        \n",
      "                                        \n",
      "                                        \n",
      "                                        \n",
      "                                        \n",
      "                                        \n",
      "                                        \n",
      "                                        \n",
      "                                        \n",
      "                                        \n",
      "                                        \n",
      "                                        \n",
      "                                        \n",
      "                                        \n",
      "                                        \n",
      "                                        \n",
      "                                        \n",
      "                                        \n",
      "                                        \n",
      "                                        \n",
      "                                        \n",
      "                                        \n",
      "                                        \n",
      "                                        \n",
      "                                        \n",
      "                                        \n",
      "                                        \n",
      "                                        \n",
      "                                        \n",
      "                                        \n",
      "                                        \n",
      "\n",
      "                                        \n",
      "                                        \n",
      "                                        \n",
      "                                        \n",
      "                                        \n",
      "                                        \n",
      "                                        \n",
      "       *****                            \n",
      "       *   *                            \n",
      "       *   *                            \n",
      "       *   *                            \n",
      "       *****                            \n",
      "                                        \n",
      "                                        \n",
      "                                        \n",
      "                                        \n",
      "                                        \n",
      "                                        \n",
      "                                        \n",
      "                                        \n",
      "                                        \n",
      "                                        \n",
      "                                        \n",
      "                                        \n",
      "                                        \n",
      "                                        \n",
      "                                        \n",
      "                                        \n",
      "                                        \n",
      "                                        \n",
      "                                        \n",
      "                                        \n",
      "                                        \n",
      "                                        \n",
      "                                        \n",
      "                                        \n",
      "                                        \n",
      "                                        \n",
      "                                        \n",
      "                                        \n",
      "\n",
      "*                                       \n",
      "*                                       \n",
      "*                                       \n",
      "****                                    \n",
      "                                        \n",
      "                                        \n",
      "                                        \n",
      "                                        \n",
      "                                        \n",
      "                                        \n",
      "                                        \n",
      "                                        \n",
      "                                        \n",
      "                                        \n",
      "                                        \n",
      "                                        \n",
      "                                        \n",
      "                                        \n",
      "                                        \n",
      "                                        \n",
      "                                        \n",
      "                                        \n",
      "                                        \n",
      "                                        \n",
      "                                        \n",
      "                                        \n",
      "                                        \n",
      "                                        \n",
      "                                        \n",
      "                                        \n",
      "                                        \n",
      "                                        \n",
      "                                        \n",
      "                                        \n",
      "                                        \n",
      "                                        \n",
      "                                        \n",
      "                                        \n",
      "                                        \n",
      "                                        \n",
      "\n"
     ]
    }
   ],
   "source": [
    "triangle = GoodRightTriangle((0, 0), 5)\n",
    "square = Square((7, 7), 5)\n",
    "fig = Shape([(0, 0), (0, 1), (0, 2), (0, 3), (1, 3), (2, 3), (3, 3)])\n",
    "sp = [triangle, square, fig]\n",
    "for elem in sp:\n",
    "    print(elem.draw())"
   ]
  },
  {
   "cell_type": "markdown",
   "metadata": {},
   "source": [
    "### Задание 8\n",
    "Нарисовать ромб (через функцию рисования диагонали)"
   ]
  },
  {
   "cell_type": "code",
   "execution_count": 27,
   "metadata": {},
   "outputs": [],
   "source": [
    "class RightRhombus(Shape):\n",
    "    def __init__(self, left, length):\n",
    "        self.coords = []\n",
    "        self.length = length\n",
    "        for i in range(length):\n",
    "            self.coords.append((left[0] + i, left[1] - i))\n",
    "            self.coords.append((left[0] + length + i, left[1] - length + i))\n",
    "            self.coords.append((left[0] + length * 2 - i, left[1] + i))\n",
    "            self.coords.append((left[0] + length - i, left[1] + length - i))"
   ]
  },
  {
   "cell_type": "code",
   "execution_count": 28,
   "metadata": {},
   "outputs": [],
   "source": [
    "fir = RightRhombus((19, 10), 10)"
   ]
  },
  {
   "cell_type": "code",
   "execution_count": 29,
   "metadata": {},
   "outputs": [
    {
     "name": "stdout",
     "output_type": "stream",
     "text": [
      "                             *          \n",
      "                            * *         \n",
      "                           *   *        \n",
      "                          *     *       \n",
      "                         *       *      \n",
      "                        *         *     \n",
      "                       *           *    \n",
      "                      *             *   \n",
      "                     *               *  \n",
      "                    *                 * \n",
      "                   *                   *\n",
      "                    *                 * \n",
      "                     *               *  \n",
      "                      *             *   \n",
      "                       *           *    \n",
      "                        *         *     \n",
      "                         *       *      \n",
      "                          *     *       \n",
      "                           *   *        \n",
      "                            * *         \n",
      "                             *          \n",
      "                                        \n",
      "                                        \n",
      "                                        \n",
      "                                        \n",
      "                                        \n",
      "                                        \n",
      "                                        \n",
      "                                        \n",
      "                                        \n",
      "                                        \n",
      "                                        \n",
      "                                        \n",
      "                                        \n",
      "                                        \n",
      "                                        \n",
      "                                        \n",
      "                                        \n",
      "                                        \n",
      "                                        \n",
      "\n"
     ]
    }
   ],
   "source": [
    "print(fir.draw())"
   ]
  },
  {
   "cell_type": "code",
   "execution_count": null,
   "metadata": {},
   "outputs": [],
   "source": []
  }
 ],
 "metadata": {
  "kernelspec": {
   "display_name": "Python 3",
   "language": "python",
   "name": "python3"
  },
  "language_info": {
   "codemirror_mode": {
    "name": "ipython",
    "version": 3
   },
   "file_extension": ".py",
   "mimetype": "text/x-python",
   "name": "python",
   "nbconvert_exporter": "python",
   "pygments_lexer": "ipython3",
   "version": "3.8.5"
  }
 },
 "nbformat": 4,
 "nbformat_minor": 4
}
