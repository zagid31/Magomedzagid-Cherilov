{
 "cells": [
  {
   "cell_type": "markdown",
   "metadata": {},
   "source": [
    "# Задание 6"
   ]
  },
  {
   "cell_type": "markdown",
   "metadata": {},
   "source": [
    "1 При помощи механизма map/filter/reduce превраить список целых чисел в строку, содержащую строковое представление этих чисел, разделенное пробелами.\n",
    "\n",
    "Пример: [1, 2, 3, 4] -> '1 2 3 4'"
   ]
  },
  {
   "cell_type": "markdown",
   "metadata": {},
   "source": [
    "2 При помощи механизма map/filter/reduce возвести в квадрат числа от 1 до 100, и рассчитать их сумму, не включая в сумму числа, кратные 9."
   ]
  },
  {
   "cell_type": "markdown",
   "metadata": {},
   "source": [
    "3 Написать реализацию пункт 2 в одну строку."
   ]
  },
  {
   "cell_type": "markdown",
   "metadata": {},
   "source": [
    "4 При помощи механизма map/filter/reduce из списка списков извлечь элементы, содержащиеся во вложенных списках по индексу 1.\n",
    "\n",
    "Пример:\n",
    "[[1, 2, 3], [2, 3, 4], [0, 1 , 1 , 1], [0, 0]] -> [2, 3, 1, 0]"
   ]
  },
  {
   "cell_type": "markdown",
   "metadata": {},
   "source": [
    "5 Написать реализацию 4 без доп. функций (в том числе lambda)."
   ]
  },
  {
   "cell_type": "markdown",
   "metadata": {},
   "source": [
    "6 При помощи механизма map/filter/reduce из несколько одинаковых подряд идущих элементов оставить только один.\n",
    "\n",
    "Пример:\n",
    "\n",
    "[1, 2, 3, 4, 4, 4, 5, 6, 6, 7, 6, 1, 1]  -> [1, 2, 3, 4, 5, 6, 7, 6, 1]"
   ]
  },
  {
   "cell_type": "markdown",
   "metadata": {},
   "source": [
    "7 Написать декоратор flip, который переставляет аргументы декорируемой функции в обратном порядке (функция не имеет именованых аргументов).\n",
    "Пример:"
   ]
  },
  {
   "cell_type": "code",
   "execution_count": 1,
   "metadata": {},
   "outputs": [
    {
     "ename": "SyntaxError",
     "evalue": "invalid syntax (<ipython-input-1-fb897da24d81>, line 5)",
     "output_type": "error",
     "traceback": [
      "\u001b[0;36m  File \u001b[0;32m\"<ipython-input-1-fb897da24d81>\"\u001b[0;36m, line \u001b[0;32m5\u001b[0m\n\u001b[0;31m    $> foo(1, 2, 3)\u001b[0m\n\u001b[0m    ^\u001b[0m\n\u001b[0;31mSyntaxError\u001b[0m\u001b[0;31m:\u001b[0m invalid syntax\n"
     ]
    }
   ],
   "source": [
    "@flip\n",
    "def foo(x, y, z):\n",
    "    return x + y - z\n",
    "    \n",
    "$> foo(1, 2, 3)\n",
    ">>> 4"
   ]
  },
  {
   "cell_type": "code",
   "execution_count": null,
   "metadata": {},
   "outputs": [],
   "source": []
  }
 ],
 "metadata": {
  "anaconda-cloud": {},
  "kernelspec": {
   "display_name": "Python 3",
   "language": "python",
   "name": "python3"
  },
  "language_info": {
   "codemirror_mode": {
    "name": "ipython",
    "version": 3
   },
   "file_extension": ".py",
   "mimetype": "text/x-python",
   "name": "python",
   "nbconvert_exporter": "python",
   "pygments_lexer": "ipython3",
   "version": "3.8.5"
  }
 },
 "nbformat": 4,
 "nbformat_minor": 1
}
