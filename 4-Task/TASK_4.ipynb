{
 "cells": [
  {
   "cell_type": "markdown",
   "metadata": {},
   "source": [
    "## TASK 4\n"
   ]
  },
  {
   "cell_type": "markdown",
   "metadata": {},
   "source": [
    "### Задания 1-2\n",
    "При помощи декоратора @property превратить функцию площади в свойство. Модифицировать пункт 6 из 3-Task в соответствии с новыми возможностями.\n",
    "При помощи свойств сделать переменные объекта x, y, доступными для получения, но недоступными для изменения."
   ]
  },
  {
   "cell_type": "code",
   "execution_count": 1,
   "metadata": {},
   "outputs": [],
   "source": [
    "class Shape:\n",
    "    def __init__(self, coords):\n",
    "        self.__coords = coords \n",
    "\n",
    "    def draw(self):\n",
    "        result = ''\n",
    "        for i in range(40):\n",
    "            for j in range(40):\n",
    "                if (j, i) in self.coords:\n",
    "                    result += '*'\n",
    "                else:\n",
    "                    result += ' '\n",
    "            result += '\\n'\n",
    "        return result\n",
    "                    \n",
    "    def __str__(self):\n",
    "        return self.draw()\n",
    "    \n",
    "    @propert\n",
    "    def coords(self):\n",
    "        return self.__coords\n",
    "\n"
   ]
  },
  {
   "cell_type": "code",
   "execution_count": 2,
   "metadata": {},
   "outputs": [],
   "source": [
    "class Rectangle(Shape):\n",
    "    def __init__(self, top_left, bottom_right):\n",
    "        self.__coords = []\n",
    "        self.length = bottom_right[0] - top_left[0]\n",
    "        self.width = bottom_right[1] - top_left[1]\n",
    "        for i in range(top_left[0], bottom_right[0] + 1):\n",
    "            self.coords.append((i, top_left[1]))\n",
    "            self.coords.append((i, bottom_right[1]))\n",
    "        for i in range(top_left[1], bottom_right[1] + 1):\n",
    "            self.coords.append((top_left[0], i))\n",
    "            self.coords.append((bottom_right[0], i))\n",
    "            \n",
    "    def __str__(self):\n",
    "        return self.draw()\n",
    "    \n",
    "    @propert\n",
    "    def area(self):\n",
    "        return self.length * self.width\n",
    "    \n",
    "    @propert\n",
    "    def coords(self):\n",
    "        return self.__coords"
   ]
  },
  {
   "cell_type": "code",
   "execution_count": 3,
   "metadata": {},
   "outputs": [],
   "source": [
    "class Square(Rectangle):\n",
    "    def __init__(self, top_left, length):\n",
    "        self.length = length\n",
    "        super().__init__(top_left, (top_left[0] + length - 1, top_left[1] + length - 1))\n",
    "        \n",
    "    def __str__(self):\n",
    "        return self.draw()\n",
    "    \n",
    "    @propert\n",
    "    def area(self):\n",
    "        return self.length ** 2"
   ]
  },
  {
   "cell_type": "code",
   "execution_count": 4,
   "metadata": {},
   "outputs": [],
   "source": [
    "class GoodRightTriangle(Shape):\n",
    "    def __init__(self, vertex, length):\n",
    "        self.__coords = []\n",
    "        self.lower_vertex = (vertex[0], vertex[1] + length - 1)\n",
    "        self.length = length\n",
    "        for i in range(length):\n",
    "            self.coords.append((vertex[0] + i, vertex[1]))\n",
    "            self.coords.append((vertex[0], vertex[1] + i))\n",
    "            self.coords.append((self.lower_vertex[0] + i, self.lower_vertex[1] - i))\n",
    "            \n",
    "    def __str__(self):\n",
    "        return self.draw()\n",
    "    \n",
    "    @propert\n",
    "    def area(self):\n",
    "        return self.length ** 2 / 2\n",
    "    \n",
    "    @propert\n",
    "    def coords(self):\n",
    "        return self.__coords"
   ]
  },
  {
   "cell_type": "code",
   "execution_count": null,
   "metadata": {},
   "outputs": [],
   "source": []
  }
 ],
 "metadata": {
  "kernelspec": {
   "display_name": "Python 3",
   "language": "python",
   "name": "python3"
  },
  "language_info": {
   "codemirror_mode": {
    "name": "ipython",
    "version": 3
   },
   "file_extension": ".py",
   "mimetype": "text/x-python",
   "name": "python",
   "nbconvert_exporter": "python",
   "pygments_lexer": "ipython3",
   "version": "3.8.5"
  }
 },
 "nbformat": 4,
 "nbformat_minor": 4
}
