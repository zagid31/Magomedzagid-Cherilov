{
 "cells": [
  {
   "cell_type": "markdown",
   "metadata": {},
   "source": [
    "## TASK 3\n"
   ]
  },
  {
   "cell_type": "markdown",
   "metadata": {},
   "source": [
    "### Задание 1\n",
    "Создать класс линии (не является наследником фигуры), имеющий метод draw аналогичный предыдущему\n",
    "\n",
    "#### Ремарка: делел \n",
    "\n"
   ]
  },
  {
   "cell_type": "code",
   "execution_count": 6,
   "metadata": {},
   "outputs": [],
   "source": [
    "class Line:\n",
    "    def __init__(self, start, end):\n",
    "        self.coords = []\n",
    "        if start[0] < end[0]:\n",
    "            first = start\n",
    "            second = end\n",
    "            \n",
    "        else:\n",
    "            first = end\n",
    "            second = start\n",
    "        dx = abs(first[0] - second[0])\n",
    "        dy = abs(first[1] - second[1])\n",
    "        x1 = first[0]\n",
    "        y1 = first[1]\n",
    "        if dx > dy:\n",
    "            step = dx\n",
    "        else:\n",
    "            step = dy\n",
    "        xinc = dx / step\n",
    "        yinc = dy / step\n",
    "        if first[1] <= second[1]:\n",
    "            for i in range(step):\n",
    "                self.coords.append((round(x1), round(y1)))\n",
    "                x1 += xinc\n",
    "                y1 += yinc\n",
    "        else:\n",
    "            for i in range(step):\n",
    "                self.coords.append((round(x1), round(y1)))\n",
    "                x1 += xinc\n",
    "                y1 -= yinc\n",
    "        self.coords.append(second)\n",
    "           \n",
    "    def draw(self):\n",
    "        result = ''\n",
    "        for i in range(40):\n",
    "            for j in range(40):\n",
    "                if (j, i) in self.coords:\n",
    "                    result += '*'\n",
    "                else:\n",
    "                    result += ' '\n",
    "            result += '\\n'\n",
    "        return result"
   ]
  },
  {
   "cell_type": "code",
   "execution_count": 7,
   "metadata": {},
   "outputs": [],
   "source": []
  },
  {
   "cell_type": "markdown",
   "metadata": {},
   "source": [
    "### Задание 2\n",
    "C участием линии (пример утиной типизации) создать несколько объектов класса треугольник, прямоугольник и фигура, поместить их в список и вызвать функцию рисования при обходе списка (пример полиморфизма)."
   ]
  },
  {
   "cell_type": "code",
   "execution_count": 9,
   "metadata": {
    "scrolled": false
   },
   "outputs": [
    {
     "name": "stdout",
     "output_type": "stream",
     "text": [
      "*****                                   \n",
      "*  *                                    \n",
      "* *                                     \n",
      "**                                      \n",
      "*                                       \n",
      "                                        \n",
      "                                        \n",
      "                                        \n",
      "                                        \n",
      "                                        \n",
      "                                        \n",
      "                                        \n",
      "                                        \n",
      "                                        \n",
      "                                        \n",
      "                                        \n",
      "                                        \n",
      "                                        \n",
      "                                        \n",
      "                                        \n",
      "                                        \n",
      "                                        \n",
      "                                        \n",
      "                                        \n",
      "                                        \n",
      "                                        \n",
      "                                        \n",
      "                                        \n",
      "                                        \n",
      "                                        \n",
      "                                        \n",
      "                                        \n",
      "                                        \n",
      "                                        \n",
      "                                        \n",
      "                                        \n",
      "                                        \n",
      "                                        \n",
      "                                        \n",
      "                                        \n",
      "\n",
      "                                        \n",
      "                                        \n",
      "                                        \n",
      "                                        \n",
      "                                        \n",
      "                                        \n",
      "                                        \n",
      "       *****                            \n",
      "       *   *                            \n",
      "       *   *                            \n",
      "       *   *                            \n",
      "       *****                            \n",
      "                                        \n",
      "                                        \n",
      "                                        \n",
      "                                        \n",
      "                                        \n",
      "                                        \n",
      "                                        \n",
      "                                        \n",
      "                                        \n",
      "                                        \n",
      "                                        \n",
      "                                        \n",
      "                                        \n",
      "                                        \n",
      "                                        \n",
      "                                        \n",
      "                                        \n",
      "                                        \n",
      "                                        \n",
      "                                        \n",
      "                                        \n",
      "                                        \n",
      "                                        \n",
      "                                        \n",
      "                                        \n",
      "                                        \n",
      "                                        \n",
      "                                        \n",
      "\n",
      "*                                       \n",
      "*                                       \n",
      "*                                       \n",
      "****                                    \n",
      "                                        \n",
      "                                        \n",
      "                                        \n",
      "                                        \n",
      "                                        \n",
      "                                        \n",
      "                                        \n",
      "                                        \n",
      "                                        \n",
      "                                        \n",
      "                                        \n",
      "                                        \n",
      "                                        \n",
      "                                        \n",
      "                                        \n",
      "                                        \n",
      "                                        \n",
      "                                        \n",
      "                                        \n",
      "                                        \n",
      "                                        \n",
      "                                        \n",
      "                                        \n",
      "                                        \n",
      "                                        \n",
      "                                        \n",
      "                                        \n",
      "                                        \n",
      "                                        \n",
      "                                        \n",
      "                                        \n",
      "                                        \n",
      "                                        \n",
      "                                        \n",
      "                                        \n",
      "                                        \n",
      "\n"
     ]
    }
   ],
   "source": [
    "sp = [FigureFromLines(Line((0, 0), (0, 4)), Line((0, 4), (4, 0)), Line((4, 0), (0, 0))),\n",
    "      FigureFromLines(Line((7, 7), (11, 7)), Line((11, 7), (11, 11)), Line((11, 11), (7, 11)), Line((7, 11), (7, 7))),\n",
    "      FigureFromLines(Line((0, 0), (0, 3)), Line((0, 3), (3, 3)))]\n",
    "for elem in sp:\n",
    "    print(elem.draw())"
   ]
  },
  {
   "cell_type": "markdown",
   "metadata": {},
   "source": [
    "### Задание 3\n",
    "Реализовать для всех объектов метод, позволяющий печатать объекты при помощи функции print()"
   ]
  },
  {
   "cell_type": "markdown",
   "metadata": {},
   "source": [
    "<p>Метод везде будет одинаковый, такого вида:</p>\n",
    "<code>def __str__(self):\n",
    "        return self.draw()</code>"
   ]
  },
  {
   "cell_type": "markdown",
   "metadata": {},
   "source": [
    "### Задание 4\n",
    "Реализовать для фигур функцию расчета площади.\n",
    "#### Ремарка: сделаю сразу финальный вид класса как в самом конце должно быть"
   ]
  },
  {
   "cell_type": "code",
   "execution_count": 10,
   "metadata": {},
   "outputs": [],
   "source": [
    "class Shape:\n",
    "    def __init__(self, coords):\n",
    "        self.__coords = coords \n",
    "\n",
    "    def draw(self):\n",
    "        result = ''\n",
    "        for i in range(40):\n",
    "            for j in range(40):\n",
    "                if (j, i) in self.coords:\n",
    "                    result += '*'\n",
    "                else:\n",
    "                    result += ' '\n",
    "            result += '\\n'\n",
    "        return result\n",
    "                    \n",
    "    def __str__(self):\n",
    "        return self.draw()\n",
    "    \n",
    "    @property\n",
    "    def coords(self):\n",
    "        return self.__coords\n"
   ]
  },
  {
   "cell_type": "code",
   "execution_count": 11,
   "metadata": {},
   "outputs": [],
   "source": [
    "class Rectangle(Shape):\n",
    "    def __init__(self, top_left, bottom_right):\n",
    "        self.__coords = []\n",
    "        self.length = bottom_right[0] - top_left[0]\n",
    "        self.width = bottom_right[1] - top_left[1]\n",
    "        for i in range(top_left[0], bottom_right[0] + 1):\n",
    "            self.coords.append((i, top_left[1]))\n",
    "            self.coords.append((i, bottom_right[1]))\n",
    "        for i in range(top_left[1], bottom_right[1] + 1):\n",
    "            self.coords.append((top_left[0], i))\n",
    "            self.coords.append((bottom_right[0], i))\n",
    "            \n",
    "    def __str__(self):\n",
    "        return self.draw()\n",
    "    \n",
    "    @property\n",
    "    def area(self):\n",
    "        return self.length * self.width\n",
    "    \n",
    "    @property\n",
    "    def coords(self):\n",
    "        return self.__coords"
   ]
  },
  {
   "cell_type": "code",
   "execution_count": 12,
   "metadata": {},
   "outputs": [],
   "source": [
    "class Square(Rectangle):\n",
    "    def __init__(self, top_left, length):\n",
    "        self.length = length\n",
    "        super().__init__(top_left, (top_left[0] + length - 1, top_left[1] + length - 1))\n",
    "        \n",
    "    def __str__(self):\n",
    "        return self.draw()\n",
    "    \n",
    "    @property\n",
    "    def area(self):\n",
    "        return self.length ** 2"
   ]
  },
  {
   "cell_type": "code",
   "execution_count": 13,
   "metadata": {},
   "outputs": [],
   "source": [
    "class GoodRightTriangle(Shape):\n",
    "    def __init__(self, vertex, length):\n",
    "        self.__coords = []\n",
    "        self.lower_vertex = (vertex[0], vertex[1] + length - 1)\n",
    "        self.length = length\n",
    "        for i in range(length):\n",
    "            self.coords.append((vertex[0] + i, vertex[1]))\n",
    "            self.coords.append((vertex[0], vertex[1] + i))\n",
    "            self.coords.append((self.lower_vertex[0] + i, self.lower_vertex[1] - i))\n",
    "            \n",
    "    def __str__(self):\n",
    "        return self.draw()\n",
    "    \n",
    "    @property\n",
    "    def area(self):\n",
    "        return self.length ** 2 / 2\n",
    "    \n",
    "    @property\n",
    "    def coords(self):\n",
    "        return self.__coords"
   ]
  },
  {
   "cell_type": "code",
   "execution_count": 15,
   "metadata": {},
   "outputs": [],
   "source": [
    "class RightRhombus(Shape):\n",
    "    def __init__(self, left, length):\n",
    "        self.__coords = []\n",
    "        self.length = length\n",
    "        for i in range(length):\n",
    "            self.coords.append((left[0] + i, left[1] - i))\n",
    "            self.coords.append((left[0] + length + i, left[1] - length + i))\n",
    "            self.coords.append((left[0] + length * 2 - i, left[1] + i))\n",
    "            self.coords.append((left[0] + length - i, left[1] + length - i))\n",
    "                \n",
    "    def __str__(self):\n",
    "        return self.draw()\n",
    "    \n",
    "    @property\n",
    "    def area(self):\n",
    "        return self.length ** 2\n",
    "                \n",
    "    @property\n",
    "    def coords(self):\n",
    "        return self.__coords"
   ]
  },
  {
   "cell_type": "code",
   "execution_count": 16,
   "metadata": {},
   "outputs": [],
   "source": [
    "class Line:\n",
    "    def __init__(self, start, end):\n",
    "        self.__coords = []\n",
    "        if start[0] < end[0]:\n",
    "            first = start\n",
    "            second = end\n",
    "            \n",
    "        else:\n",
    "            first = end\n",
    "            second = start\n",
    "        dx = abs(first[0] - second[0])\n",
    "        dy = abs(first[1] - second[1])\n",
    "        x1 = first[0]\n",
    "        y1 = first[1]\n",
    "        if dx > dy:\n",
    "            step = dx\n",
    "        else:\n",
    "            step = dy\n",
    "        xinc = dx / step\n",
    "        yinc = dy / step\n",
    "        if first[1] <= second[1]:\n",
    "            for i in range(step):\n",
    "                self.coords.append((round(x1), round(y1)))\n",
    "                x1 += xinc\n",
    "                y1 += yinc\n",
    "        else:\n",
    "            for i in range(step):\n",
    "                self.coords.append((round(x1), round(y1)))\n",
    "                x1 += xinc\n",
    "                y1 -= yinc\n",
    "        self.coords.append(second)\n",
    "           \n",
    "    def draw(self):\n",
    "        result = ''\n",
    "        for i in range(40):\n",
    "            for j in range(40):\n",
    "                if (j, i) in self.coords:\n",
    "                    result += '*'\n",
    "                else:\n",
    "                    result += ' '\n",
    "            result += '\\n'\n",
    "        return result\n",
    "    \n",
    "    def __str__(self):\n",
    "        return self.draw()\n",
    "    \n",
    "    @property\n",
    "    def coords(self):\n",
    "        return self.__coords"
   ]
  },
  {
   "cell_type": "code",
   "execution_count": 17,
   "metadata": {},
   "outputs": [],
   "source": [
    "class FigureFromLines(Line):\n",
    "    def __init__(self, *lines):\n",
    "        self.__coords = []\n",
    "        for elem in lines:\n",
    "            self.coords.extend(elem.coords)\n",
    "            \n",
    "    def __str__(self):\n",
    "        return self.draw()\n",
    "    \n",
    "    @property\n",
    "    def coords(self):\n",
    "        return self.__coords"
   ]
  },
  {
   "cell_type": "markdown",
   "metadata": {},
   "source": [
    "### Задание 5\n",
    "Создать несколько объектов класса треугольник, прямоугольник и фигура, поместить их в список. Рассчитать суммарную площадь всех форм, находящихся в списке."
   ]
  },
  {
   "cell_type": "code",
   "execution_count": 19,
   "metadata": {},
   "outputs": [
    {
     "name": "stdout",
     "output_type": "stream",
     "text": [
      "42.5\n"
     ]
    }
   ],
   "source": [
    "sp = [Square((0,0), 5), Rectangle((5, 5), (7, 12)), GoodRightTriangle((0,0), 5)]\n",
    "overall = 0\n",
    "for elem in sp:\n",
    "    overall += elem.area\n",
    "print(overall)"
   ]
  },
  {
   "cell_type": "markdown",
   "metadata": {},
   "source": [
    "### Задание 6\n",
    "Для пункта 5 добавить в список объект линия (для которого не реализована функция площади). При помощи функции определения принадлежности объекта к классу модифицировать расчет суммарной площади так, чтобы он не приводил к ошибке."
   ]
  },
  {
   "cell_type": "code",
   "execution_count": 20,
   "metadata": {},
   "outputs": [
    {
     "name": "stdout",
     "output_type": "stream",
     "text": [
      "42.5\n"
     ]
    }
   ],
   "source": [
    "sp = [Square((0,0), 5), Rectangle((5, 5), (7, 12)), GoodRightTriangle((0,0), 5), Line((1, 1), (7, 8))]\n",
    "overall = 0\n",
    "for elem in sp:\n",
    "    if isinstance(elem, Shape):\n",
    "        overall += elem.area\n",
    "print(overall)"
   ]
  },
  {
   "cell_type": "code",
   "execution_count": null,
   "metadata": {},
   "outputs": [],
   "source": []
  }
 ],
 "metadata": {
  "kernelspec": {
   "display_name": "Python 3",
   "language": "python",
   "name": "python3"
  },
  "language_info": {
   "codemirror_mode": {
    "name": "ipython",
    "version": 3
   },
   "file_extension": ".py",
   "mimetype": "text/x-python",
   "name": "python",
   "nbconvert_exporter": "python",
   "pygments_lexer": "ipython3",
   "version": "3.8.5"
  }
 },
 "nbformat": 4,
 "nbformat_minor": 4
}
