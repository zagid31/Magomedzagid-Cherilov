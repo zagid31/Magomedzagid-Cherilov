{
 "cells": [
  {
   "cell_type": "markdown",
   "metadata": {},
   "source": [
    "## TASK 5\n"
   ]
  },
  {
   "cell_type": "markdown",
   "metadata": {},
   "source": [
    "### Задание 1\n",
    "Реализовать функцию factorial(n) двумя способами: с помощью цикла и рекурсии."
   ]
  },
  {
   "cell_type": "code",
   "execution_count": 5,
   "metadata": {},
   "outputs": [],
   "source": [
    "# С помощью цикла\n",
    "\n",
    "def factorial_cicle(n):\n",
    "    if n == 0:\n",
    "        return 1\n",
    "    else:\n",
    "        result = 1\n",
    "        for i in range(2, n + 1):\n",
    "            result *= i\n",
    "        return result"
   ]
  },
  {
   "cell_type": "code",
   "execution_count": 7,
   "metadata": {},
   "outputs": [
    {
     "name": "stdout",
     "output_type": "stream",
     "text": [
      "1\n"
     ]
    }
   ],
   "source": [
    "print(factorial(0))"
   ]
  },
  {
   "cell_type": "code",
   "execution_count": 28,
   "metadata": {},
   "outputs": [],
   "source": [
    "# реккурентно\n",
    "\n",
    "def factorial_rec(n):\n",
    "    if n == 1 or n == 0:\n",
    "        print(f'factorial({n})')\n",
    "        return 1\n",
    "    else:\n",
    "        print(f'factorial({n})')\n",
    "        return n * factorial_rec(n - 1)\n"
   ]
  },
  {
   "cell_type": "code",
   "execution_count": 29,
   "metadata": {},
   "outputs": [
    {
     "name": "stdout",
     "output_type": "stream",
     "text": [
      "factorial(4)\n",
      "factorial(3)\n",
      "factorial(2)\n",
      "factorial(1)\n",
      "24\n"
     ]
    }
   ],
   "source": [
    "print(factorial_rec(4))"
   ]
  },
  {
   "cell_type": "markdown",
   "metadata": {},
   "source": [
    "### Задание 2\n",
    "С использованием printIn(s) и printOut(s) реализовать отладочный вывод работы factorial(n) как для вызовов функций, так и для возвращаемых значений."
   ]
  },
  {
   "cell_type": "code",
   "execution_count": 71,
   "metadata": {},
   "outputs": [],
   "source": [
    "# реккурентно\n",
    "\n",
    "b = None\n",
    "\n",
    "def factorial_rec(n):\n",
    "    global b\n",
    "    if not b:\n",
    "        b = n\n",
    "    if n == 0:\n",
    "        print((b - n) * '\\t', f'factorial({n})')\n",
    "        print((b - n) * '\\t', 1)\n",
    "        return 1\n",
    "    else:\n",
    "        print((b - n) * '\\t', f'factorial({n})')\n",
    "        value = n * factorial_rec(n - 1)\n",
    "        print((b - n) * '\\t', value)\n",
    "        return value"
   ]
  },
  {
   "cell_type": "code",
   "execution_count": 73,
   "metadata": {},
   "outputs": [
    {
     "name": "stdout",
     "output_type": "stream",
     "text": [
      " factorial(3)\n",
      "\t factorial(2)\n",
      "\t\t factorial(1)\n",
      "\t\t\t factorial(0)\n",
      "\t\t\t 1\n",
      "\t\t 1\n",
      "\t 2\n",
      " 6\n"
     ]
    },
    {
     "data": {
      "text/plain": [
       "6"
      ]
     },
     "execution_count": 73,
     "metadata": {},
     "output_type": "execute_result"
    }
   ],
   "source": [
    "factorial_rec(3)"
   ]
  },
  {
   "cell_type": "markdown",
   "metadata": {},
   "source": [
    "### Задание 3\n",
    "Рекурсивно реализовать функцию fib(n) вычисляющую значение n-го числа Фибоначи. Учесть возможность вычисления числа с отрицательным индексом."
   ]
  },
  {
   "cell_type": "code",
   "execution_count": 112,
   "metadata": {},
   "outputs": [],
   "source": [
    "def inner(n):\n",
    "    n = abs(n)\n",
    "    if n == 1 or n == 2:\n",
    "        return 1\n",
    "    else:\n",
    "        return inner(n - 1) + inner(n - 2)\n",
    "\n",
    "def fibbonacci(n) ->:\n",
    "    if n == 0:\n",
    "        return 0\n",
    "    else:\n",
    "        flag = 1\n",
    "        if n < 0:\n",
    "            flag = -1\n",
    "        value = inner(abs(n))\n",
    "        return int(value * flag ** (n + 1))"
   ]
  },
  {
   "cell_type": "code",
   "execution_count": 113,
   "metadata": {},
   "outputs": [
    {
     "name": "stdout",
     "output_type": "stream",
     "text": [
      "0\n"
     ]
    }
   ],
   "source": [
    "print(fibbonacci(0))"
   ]
  },
  {
   "cell_type": "code",
   "execution_count": null,
   "metadata": {},
   "outputs": [],
   "source": []
  }
 ],
 "metadata": {
  "kernelspec": {
   "display_name": "Python 3",
   "language": "python",
   "name": "python3"
  },
  "language_info": {
   "codemirror_mode": {
    "name": "ipython",
    "version": 3
   },
   "file_extension": ".py",
   "mimetype": "text/x-python",
   "name": "python",
   "nbconvert_exporter": "python",
   "pygments_lexer": "ipython3",
   "version": "3.8.5"
  }
 },
 "nbformat": 4,
 "nbformat_minor": 4
}
